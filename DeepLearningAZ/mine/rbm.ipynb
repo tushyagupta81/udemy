{
 "cells": [
  {
   "cell_type": "markdown",
   "metadata": {
    "id": "kqyu1kmoKbrE"
   },
   "source": [
    "# Boltzmann Machines"
   ]
  },
  {
   "cell_type": "markdown",
   "metadata": {
    "id": "9tAA6MwdRAVd"
   },
   "source": [
    "## Importing the libraries"
   ]
  },
  {
   "cell_type": "markdown",
   "metadata": {
    "id": "PDWL9xRfSRhC"
   },
   "source": [
    "## Importing the dataset"
   ]
  },
  {
   "cell_type": "markdown",
   "metadata": {
    "id": "Ifo6XYFvXsRF"
   },
   "source": [
    "## Preparing the training set and the test set"
   ]
  },
  {
   "cell_type": "markdown",
   "metadata": {
    "id": "ujNEtV_fX8d3"
   },
   "source": [
    "## Getting the number of users and movies"
   ]
  },
  {
   "cell_type": "markdown",
   "metadata": {
    "id": "iPJDmiQlYD1r"
   },
   "source": [
    "## Converting the data into an array with users in lines and movies in columns"
   ]
  },
  {
   "cell_type": "markdown",
   "metadata": {
    "id": "Aj4327VkYZAB"
   },
   "source": [
    "## Converting the data into Torch tensors"
   ]
  },
  {
   "cell_type": "markdown",
   "metadata": {
    "id": "5n17yuE5YheZ"
   },
   "source": [
    "## Converting the ratings into binary ratings 1 (Liked) or 0 (Not Liked)"
   ]
  },
  {
   "cell_type": "markdown",
   "metadata": {
    "id": "lVXY7u7NYuuC"
   },
   "source": [
    "## Creating the architecture of the Neural Network"
   ]
  },
  {
   "cell_type": "markdown",
   "metadata": {
    "id": "JXT6ofIOY61G"
   },
   "source": [
    "## Training the RBM"
   ]
  },
  {
   "cell_type": "markdown",
   "metadata": {
    "id": "Dcksm8T5ZCpo"
   },
   "source": [
    "## Testing the RBM"
   ]
  }
 ],
 "metadata": {
  "colab": {
   "authorship_tag": "ABX9TyO49tNBkSWs31OOVHFx7mqa",
   "provenance": []
  },
  "kernelspec": {
   "display_name": "Python 3",
   "name": "python3"
  }
 },
 "nbformat": 4,
 "nbformat_minor": 0
}
