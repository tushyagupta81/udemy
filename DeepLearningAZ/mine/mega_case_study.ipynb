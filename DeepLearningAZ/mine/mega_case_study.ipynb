{
 "cells": [
  {
   "cell_type": "markdown",
   "metadata": {
    "id": "4ttDzgHju6gA"
   },
   "source": [
    "# Mega Case Study"
   ]
  },
  {
   "cell_type": "markdown",
   "metadata": {
    "id": "oSwejljBvC9R"
   },
   "source": [
    "## Part 1 - SOM"
   ]
  },
  {
   "cell_type": "markdown",
   "metadata": {
    "id": "TEwWQkWvvMUW"
   },
   "source": [
    "### Importing the libraries"
   ]
  },
  {
   "cell_type": "markdown",
   "metadata": {
    "id": "YjJhJQKMvYaN"
   },
   "source": [
    "### Importing the dataset"
   ]
  },
  {
   "cell_type": "markdown",
   "metadata": {
    "id": "tvYpotq2viVh"
   },
   "source": [
    "### Feature Scaling"
   ]
  },
  {
   "cell_type": "markdown",
   "metadata": {
    "id": "vWwhBy7GvpOv"
   },
   "source": [
    "### Training the SOM"
   ]
  },
  {
   "cell_type": "markdown",
   "metadata": {
    "id": "v7-6SEWDv0Rp"
   },
   "source": [
    "### Visualizing the results"
   ]
  },
  {
   "cell_type": "markdown",
   "metadata": {
    "id": "m8Ovu0awv5Q-"
   },
   "source": [
    "### Finding the frauds"
   ]
  },
  {
   "cell_type": "markdown",
   "metadata": {
    "id": "In6qKWfGwAqg"
   },
   "source": [
    "### Printing the fraudulent clients"
   ]
  },
  {
   "cell_type": "markdown",
   "metadata": {
    "id": "u3Btp2IowTuI"
   },
   "source": [
    "## Part 2 - Going from Unsupervised to Supervised Deep Learning"
   ]
  },
  {
   "cell_type": "markdown",
   "metadata": {
    "id": "IyeqCzjSwb_9"
   },
   "source": [
    "### Creating the Matrix of Features"
   ]
  },
  {
   "cell_type": "markdown",
   "metadata": {
    "id": "IfHa4dWMwuEj"
   },
   "source": [
    "### Creating the Dependent Variable"
   ]
  },
  {
   "cell_type": "markdown",
   "metadata": {
    "id": "PktHoBxAw1Ij"
   },
   "source": [
    "## Part 3 - ANN"
   ]
  },
  {
   "cell_type": "markdown",
   "metadata": {
    "id": "_vSD07t1w_hS"
   },
   "source": [
    "### Feature Scaling"
   ]
  },
  {
   "cell_type": "markdown",
   "metadata": {
    "id": "_CzB5frrxG0U"
   },
   "source": [
    "### Building the ANN"
   ]
  },
  {
   "cell_type": "markdown",
   "metadata": {
    "id": "6ERiPkPzxnIj"
   },
   "source": [
    "### Training the ANN"
   ]
  },
  {
   "cell_type": "markdown",
   "metadata": {
    "id": "EVCo73oPxrbW"
   },
   "source": [
    "### Predicting the test set results"
   ]
  }
 ],
 "metadata": {
  "colab": {
   "authorship_tag": "ABX9TyPywgeedkjG9OSUjlqbHY83",
   "provenance": []
  },
  "kernelspec": {
   "display_name": "Python 3",
   "name": "python3"
  },
  "language_info": {
   "name": "python"
  }
 },
 "nbformat": 4,
 "nbformat_minor": 0
}
