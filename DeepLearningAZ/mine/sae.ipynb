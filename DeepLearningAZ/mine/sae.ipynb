{
 "cells": [
  {
   "cell_type": "markdown",
   "metadata": {
    "id": "r_T6DwmhLeEU"
   },
   "source": [
    "# AutoEncoders"
   ]
  },
  {
   "cell_type": "markdown",
   "metadata": {
    "id": "mRfllOFCeNIe"
   },
   "source": [
    "## Importing the libraries"
   ]
  },
  {
   "cell_type": "markdown",
   "metadata": {
    "id": "ncWa_a4Zek9k"
   },
   "source": [
    "## Importing the dataset"
   ]
  },
  {
   "cell_type": "markdown",
   "metadata": {
    "id": "VxJyeJVSeuYF"
   },
   "source": [
    "## Preparing the training set and the test set"
   ]
  },
  {
   "cell_type": "markdown",
   "metadata": {
    "id": "t6AZsqV0fBth"
   },
   "source": [
    "## Getting the number of users and movies"
   ]
  },
  {
   "cell_type": "markdown",
   "metadata": {
    "id": "BduAm9XTfJ5M"
   },
   "source": [
    "## Converting the data into an array with users in lines and movies in columns"
   ]
  },
  {
   "cell_type": "markdown",
   "metadata": {
    "id": "eDMTdRohfca9"
   },
   "source": [
    "## Converting the data into Torch tensors"
   ]
  },
  {
   "cell_type": "markdown",
   "metadata": {
    "id": "68DIciQ1fifc"
   },
   "source": [
    "## Creating the architecture of the Neural Network"
   ]
  },
  {
   "cell_type": "markdown",
   "metadata": {
    "id": "Zn8Zl34Ofpe_"
   },
   "source": [
    "## Training the SAE"
   ]
  },
  {
   "cell_type": "markdown",
   "metadata": {
    "id": "BYTV81Yif0Sc"
   },
   "source": [
    "## Testing the SAE"
   ]
  }
 ],
 "metadata": {
  "colab": {
   "authorship_tag": "ABX9TyPHwJAy8eaK0rxUHsVrbtUp",
   "provenance": []
  },
  "kernelspec": {
   "display_name": "Python 3",
   "name": "python3"
  }
 },
 "nbformat": 4,
 "nbformat_minor": 0
}
