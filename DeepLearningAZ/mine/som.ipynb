{
 "cells": [
  {
   "cell_type": "markdown",
   "metadata": {
    "id": "FIq72ODKKPRZ"
   },
   "source": [
    "# Self-Organizing Maps"
   ]
  },
  {
   "cell_type": "markdown",
   "metadata": {
    "id": "scNulmi_Mdxe"
   },
   "source": [
    "## Importing the libraries"
   ]
  },
  {
   "cell_type": "markdown",
   "metadata": {
    "id": "8dErpnItMnjU"
   },
   "source": [
    "## Importing the dataset"
   ]
  },
  {
   "cell_type": "markdown",
   "metadata": {
    "id": "cCZbfE5uMuYg"
   },
   "source": [
    "## Feature Scaling"
   ]
  },
  {
   "cell_type": "markdown",
   "metadata": {
    "id": "B5YD9I9IM5uO"
   },
   "source": [
    "## Training the SOM"
   ]
  },
  {
   "cell_type": "markdown",
   "metadata": {
    "id": "Vsnl9mNXNCC3"
   },
   "source": [
    "## Visualizing the results"
   ]
  },
  {
   "cell_type": "markdown",
   "metadata": {
    "id": "71Ucc653NPBG"
   },
   "source": [
    "## Finding the frauds"
   ]
  }
 ],
 "metadata": {
  "colab": {
   "authorship_tag": "ABX9TyMzVg6R2jRmJI+mEnvOBLX+",
   "provenance": []
  },
  "kernelspec": {
   "display_name": "Python 3",
   "name": "python3"
  }
 },
 "nbformat": 4,
 "nbformat_minor": 0
}
